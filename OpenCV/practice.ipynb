{
 "cells": [
  {
   "cell_type": "markdown",
   "id": "c4698614",
   "metadata": {},
   "source": [
    "# 실습"
   ]
  },
  {
   "cell_type": "markdown",
   "id": "f28f945b",
   "metadata": {},
   "source": [
    "## 동영상 중간에 키 입력으로 블러처리하기"
   ]
  },
  {
   "cell_type": "markdown",
   "id": "ee741d0a",
   "metadata": {},
   "source": [
    "### 동영상 크기 확인"
   ]
  },
  {
   "cell_type": "code",
   "execution_count": 3,
   "id": "4a5b16c8",
   "metadata": {},
   "outputs": [
    {
     "name": "stdout",
     "output_type": "stream",
     "text": [
      "30.0\n",
      "486.0\n",
      "360.0\n",
      "640.0\n"
     ]
    }
   ],
   "source": [
    "import cv2\n",
    "\n",
    "video = cv2.VideoCapture(\"data\\\\video.mp4\")\n",
    "\n",
    "print(video.get(cv2.CAP_PROP_FPS))\n",
    "print(video.get(cv2.CAP_PROP_FRAME_COUNT))\n",
    "print(video.get(cv2.CAP_PROP_FRAME_WIDTH))\n",
    "print(video.get(cv2.CAP_PROP_FRAME_HEIGHT))"
   ]
  },
  {
   "cell_type": "markdown",
   "id": "b1dcf084",
   "metadata": {},
   "source": [
    "### 전체 blur"
   ]
  },
  {
   "cell_type": "code",
   "execution_count": null,
   "id": "030c8c16",
   "metadata": {},
   "outputs": [],
   "source": [
    "import cv2\n",
    "\n",
    "video = cv2.VideoCapture(\"data\\\\video.mp4\")\n",
    "temp=0  # 특정키 입력여부 확인용 변수\n",
    "\n",
    "while video.isOpened():\n",
    "    ret, frame = video.read()\n",
    "\n",
    "    if not ret:\n",
    "        break\n",
    "    else:\n",
    "        # 특정키('b')를 입력 이후로 블러처리\n",
    "        if (cv2.waitKey(25) == ord('b')) or (temp==1):\n",
    "            temp=1\n",
    "            blurred_frame = cv2.GaussianBlur(frame, (0, 0), 3)\n",
    "            cv2.imshow(\"blur_practice\", blurred_frame)\n",
    "        else:\n",
    "            cv2.imshow(\"blur_practice\", frame)\n",
    "    if cv2.waitKey(25) == ord('q'):\n",
    "        break\n",
    "\n",
    "video.release()\n",
    "cv2.destroyAllWindows()"
   ]
  },
  {
   "cell_type": "markdown",
   "id": "bcad326b",
   "metadata": {},
   "source": [
    "### 부분 blur"
   ]
  },
  {
   "cell_type": "code",
   "execution_count": null,
   "id": "c379c56d",
   "metadata": {},
   "outputs": [],
   "source": [
    "import cv2\n",
    "\n",
    "video = cv2.VideoCapture(\"data\\\\video.mp4\")\n",
    "temp=0\n",
    "\n",
    "while video.isOpened():\n",
    "    ret, frame = video.read()\n",
    "\n",
    "    if not ret:\n",
    "        break\n",
    "    else:\n",
    "        if (cv2.waitKey(25) == ord('b')) or (temp==1):\n",
    "            temp=1\n",
    "            blurred_frame = cv2.GaussianBlur(frame, (0, 0), 3)\n",
    "            # 블러처리된 일부만 원본 비디오(프레임)에 저장\n",
    "            frame[300:600, 100:200] = blurred_frame[300:600, 100:200]\n",
    "            cv2.imshow(\"blur_practice\", frame)\n",
    "        else:\n",
    "            cv2.imshow(\"blur_practice\", frame)\n",
    "    if cv2.waitKey(25) == ord('q'):\n",
    "        break\n",
    "\n",
    "video.release()\n",
    "cv2.destroyAllWindows()"
   ]
  }
 ],
 "metadata": {
  "kernelspec": {
   "display_name": "test_env",
   "language": "python",
   "name": "python3"
  },
  "language_info": {
   "codemirror_mode": {
    "name": "ipython",
    "version": 3
   },
   "file_extension": ".py",
   "mimetype": "text/x-python",
   "name": "python",
   "nbconvert_exporter": "python",
   "pygments_lexer": "ipython3",
   "version": "3.9.21"
  }
 },
 "nbformat": 4,
 "nbformat_minor": 5
}
