{
 "cells": [
  {
   "cell_type": "markdown",
   "id": "c4698614",
   "metadata": {},
   "source": [
    "# 실습"
   ]
  },
  {
   "cell_type": "markdown",
   "id": "f28f945b",
   "metadata": {},
   "source": [
    "### 동영상 중간에 키 입력으로 블러처리하기"
   ]
  },
  {
   "cell_type": "code",
   "execution_count": 1,
   "id": "030c8c16",
   "metadata": {},
   "outputs": [],
   "source": [
    "import cv2\n",
    "\n",
    "video = cv2.VideoCapture(\"data\\\\video.mp4\")\n",
    "\n",
    "while video.isOpened():\n",
    "    ret, frame = video.read()\n",
    "\n",
    "    if not ret:\n",
    "        break\n",
    "    else:\n",
    "        if cv2.waitKey(25) == ord('b'):\n",
    "            blurred_frame = cv2.GaussianBlur(frame, (0, 0), 3)\n",
    "            cv2.imshow(\"practice\", blurred_frame)\n",
    "        else:\n",
    "            cv2.imshow(\"practice\", frame)\n",
    "    if cv2.waitKey(25) == ord('q'):\n",
    "        break\n",
    "\n",
    "video.release()\n",
    "cv2.destroyAllWindows()"
   ]
  }
 ],
 "metadata": {
  "kernelspec": {
   "display_name": "test_env",
   "language": "python",
   "name": "python3"
  },
  "language_info": {
   "codemirror_mode": {
    "name": "ipython",
    "version": 3
   },
   "file_extension": ".py",
   "mimetype": "text/x-python",
   "name": "python",
   "nbconvert_exporter": "python",
   "pygments_lexer": "ipython3",
   "version": "3.9.21"
  }
 },
 "nbformat": 4,
 "nbformat_minor": 5
}
