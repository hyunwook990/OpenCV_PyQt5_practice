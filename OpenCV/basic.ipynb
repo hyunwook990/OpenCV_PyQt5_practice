{
 "cells": [
  {
   "cell_type": "markdown",
   "id": "806a667b",
   "metadata": {},
   "source": [
    "# 이미지 출력"
   ]
  },
  {
   "cell_type": "code",
   "execution_count": null,
   "id": "8f6431f6",
   "metadata": {},
   "outputs": [],
   "source": [
    "# 라이브러리 호출\n",
    "import cv2\n",
    "\n",
    "# 이미지를 읽고 변수에 저장\n",
    "image = cv2.imread(filename=\"data\\\\bom.jpg\", flags=cv2.IMREAD_COLOR)\n",
    "\n",
    "# 이미지 출력 (실행되는 창 이름, 띄울 이미지)\n",
    "cv2.imshow(winname=\"test\", mat=image)\n",
    "# 특정 key가 입력될때까지 대기(0 -> 무한정 대기)\n",
    "cv2.waitKey(0)\n",
    "# 모든 창 닫기\n",
    "cv2.destroyAllWindows()"
   ]
  },
  {
   "cell_type": "markdown",
   "id": "d83c95ed",
   "metadata": {},
   "source": [
    "# 비디오 출력"
   ]
  },
  {
   "cell_type": "code",
   "execution_count": null,
   "id": "64c8d7e1",
   "metadata": {},
   "outputs": [],
   "source": [
    "# 라이브러리 호출\n",
    "import cv2\n",
    "\n",
    "# 비디오를 불러와서 변수에 저장\n",
    "video = cv2.VideoCapture(filename=\"video.mp4\")\n",
    "\n",
    "# 비디오의 정보를 가져오기\n",
    "total = video.get(cv2.CAP_PROP_FRAME_COUNT)     # 전체 프레임 수\n",
    "fps = video.get(cv2.CAP_PROP_FPS)               # 초당 프레임 수\n",
    "width = video.get(cv2.CAP_PROP_FRAME_WIDTH)     # 프레임 넓이의 픽셀 수\n",
    "height = video.get(cv2.CAP_PROP_FRAME_HEIGHT)   # 프레임 높이의 픽셀 수\n",
    "\n",
    "print(total, fps, width, height)\n",
    "\n",
    "# 비디오 출력\n",
    "while video.isOpened():\n",
    "    ret, frame = video.read()\n",
    "    # 더이상 읽을 frame이 없을 때 혹은 오류가 발생했을 때\n",
    "    if not ret:\n",
    "        break\n",
    "    # frame을 성공적으로 읽으면 frame을 출력\n",
    "    else:\n",
    "        cv2.imshow(winname=\"My Video\", mat=frame)\n",
    "    # 0.025초동안(1프레임) 키 입력을 기다림\n",
    "    # 키 입력이 없다면 -1 반환, q를 누르면 종료료\n",
    "    if cv2.waitKey(25) == ord('q'):\n",
    "        print(\"Video가 종료되었습니다.\")\n",
    "        break\n",
    "\n",
    "# 리소스 반환 및 창 닫기\n",
    "video.release()\n",
    "cv2.destroyAllWindows()\n"
   ]
  },
  {
   "cell_type": "markdown",
   "id": "4c751972",
   "metadata": {},
   "source": [
    "# 웹캠 틀기"
   ]
  },
  {
   "cell_type": "code",
   "execution_count": null,
   "id": "06f09ac2",
   "metadata": {},
   "outputs": [
    {
     "name": "stdout",
     "output_type": "stream",
     "text": [
      "webcam이 종료되었습니다.\n"
     ]
    }
   ],
   "source": [
    "# 라이브러리 호출\n",
    "import cv2\n",
    "\n",
    "# 0이 보통 내장카메라이다.\n",
    "webcam = cv2.VideoCapture(0)\n",
    "\n",
    "# webcam이 열리지 않으면 프로그램 종료\n",
    "if not webcam.isOpened():\n",
    "    print(\"Error: webcam을 열 수 없습니다.\")\n",
    "    exit()  # 프로그램 종료\n",
    "\n",
    "while True:\n",
    "    ret, frame = webcam.read()\n",
    "    if not ret:\n",
    "        break\n",
    "    else:\n",
    "        cv2.imshow(\"webcam\", frame)\n",
    "    \n",
    "    if cv2.waitKey(1) == ord('q'):\n",
    "        print(\"webcam이 종료되었습니다.\")\n",
    "        break\n",
    "\n",
    "# 리소스 반환 및 창 닫기\n",
    "webcam.release()\n",
    "cv2.destroyAllWindows()"
   ]
  },
  {
   "cell_type": "markdown",
   "id": "cf5f2c12",
   "metadata": {},
   "source": [
    "# 이미지 전처리"
   ]
  },
  {
   "cell_type": "markdown",
   "id": "b5793b31",
   "metadata": {},
   "source": [
    "### 이미지 반전"
   ]
  },
  {
   "cell_type": "code",
   "execution_count": null,
   "id": "bdc32c25",
   "metadata": {},
   "outputs": [],
   "source": [
    "# 라이브러리 호출\n",
    "import cv2\n",
    "\n",
    "# 이미지를 불러와서 변수에 저장\n",
    "image = cv2.imread(\"data\\\\bom.jpg\", cv2.IMREAD_COLOR)\n",
    "\n",
    "# 상하 반전 (0)\n",
    "vertical = cv2.flip(image, 0)\n",
    "# 좌우 반전 (양수)\n",
    "horizontal = cv2.flip(image, 1)\n",
    "# 상하좌우 반전 (음수)\n",
    "all = cv2.flip(image, -1)\n",
    "\n",
    "# 이미지 출력\n",
    "cv2.imshow(\"original\", image)\n",
    "cv2.imshow(\"vertial flip\", vertical)\n",
    "cv2.imshow(\"horizontal flip\", horizontal)\n",
    "cv2.imshow(\"all flip\", all)\n",
    "\n",
    "# 창 닫기\n",
    "cv2.waitKey(0)\n",
    "cv2.destroyAllWindows()"
   ]
  },
  {
   "cell_type": "markdown",
   "id": "2a680e93",
   "metadata": {},
   "source": [
    "### 이미지 크기 변형"
   ]
  },
  {
   "cell_type": "code",
   "execution_count": null,
   "id": "f505a3b2",
   "metadata": {},
   "outputs": [],
   "source": [
    "import cv2\n",
    "\n",
    "image = cv2.imread(\"data\\\\bom.jpg\", cv2.IMREAD_COLOR)\n",
    "\n",
    "# 크기를 직접 설정해 크기 조절(비율은 무시)\n",
    "absolutely_resize = cv2.resize(image, (400, 300))\n",
    "# 비율에 맞춰서 크기 조절\n",
    "# (원본이미지, 이미지 크기는 설정하지 않겠다, 가로 비율 설정, 세로 비율 설정)\n",
    "relatively_resize = cv2.resize(image, None, fx=0.5, fy=0.5)\n",
    "\n",
    "cv2.imshow(\"original\", image)\n",
    "cv2.imshow(\"absolutely_resize\", absolutely_resize)\n",
    "cv2.imshow(\"relatively\", relatively_resize)\n",
    "\n",
    "cv2.waitKey(0)\n",
    "cv2.destroyAllWindows()"
   ]
  },
  {
   "cell_type": "markdown",
   "id": "559238e5",
   "metadata": {},
   "source": [
    "### 비디오 크기 변형\n",
    "- 각 프레임의 크기를 변형하여 전체 비디오 크기를 변형함"
   ]
  },
  {
   "cell_type": "code",
   "execution_count": null,
   "id": "4c0e12be",
   "metadata": {},
   "outputs": [],
   "source": [
    "import cv2\n",
    "\n",
    "video = cv2.VideoCapture(\"video.mp4\")\n",
    "\n",
    "while video.isOpened():\n",
    "    ret, frame = video.read()\n",
    "    \n",
    "    if not ret:\n",
    "        break\n",
    "    else:\n",
    "        resized_frame = cv2.resize(frame, None, fx=0.5, fy=0.5)\n",
    "        cv2.imshow(\"My video\", resized_frame)\n",
    "    \n",
    "    if cv2.waitKey(25)==ord('q'):\n",
    "        break\n",
    "\n",
    "video.release()\n",
    "cv2.destroyAllWindows()"
   ]
  },
  {
   "cell_type": "markdown",
   "id": "3c90e76f",
   "metadata": {},
   "source": [
    "### 이미지 자르기"
   ]
  },
  {
   "cell_type": "code",
   "execution_count": null,
   "id": "b2da2a2d",
   "metadata": {},
   "outputs": [],
   "source": [
    "import cv2\n",
    "\n",
    "image = cv2.imread(\"data\\\\bom.jpg\", cv2.IMREAD_COLOR)\n",
    "# image.shape # (1414, 1060, 3) 세로, 가로, rgb\n",
    "# 세로, 가로 픽셀 설정\n",
    "cropped_image = image[100:200, :100]\n",
    "\n",
    "cv2.imshow(\"crop_image\", image)\n",
    "\n",
    "cv2.waitKey(0)\n",
    "cv2.destroyAllWindows()"
   ]
  },
  {
   "cell_type": "markdown",
   "id": "acce4527",
   "metadata": {},
   "source": [
    "### 이미지 회전"
   ]
  },
  {
   "cell_type": "code",
   "execution_count": null,
   "id": "df665e6b",
   "metadata": {},
   "outputs": [],
   "source": [
    "import cv2\n",
    "\n",
    "image = cv2.imread(\"data\\\\bom.jpg\", cv2.IMREAD_COLOR)\n",
    "\n",
    "# 시계방향으로 90도 회전\n",
    "rotate_image1 = cv2.rotate(image, cv2.ROTATE_90_CLOCKWISE)\n",
    "# 반시계방향으로 90도 회전\n",
    "rotate_image2 = cv2.rotate(image, cv2.ROTATE_90_COUNTERCLOCKWISE)\n",
    "# 180도 회전(= 상하반전)\n",
    "rotate_image3 = cv2.rotate(image, cv2.ROTATE_180)\n",
    "\n",
    "cv2.imshow(\"original\", image)\n",
    "cv2.imshow(\"rotated_image\", rotate_image1)\n",
    "cv2.imshow(\"rotated_image\", rotate_image2)\n",
    "cv2.imshow(\"rotated_image\", rotate_image3)\n",
    "\n",
    "cv2.waitKey(0)\n",
    "cv2.destroyAllWindows()"
   ]
  },
  {
   "cell_type": "markdown",
   "id": "46a28759",
   "metadata": {},
   "source": [
    "### 흑백으로 변경"
   ]
  },
  {
   "cell_type": "code",
   "execution_count": null,
   "id": "06fb8420",
   "metadata": {},
   "outputs": [],
   "source": [
    "import cv2\n",
    "\n",
    "image = cv2.imread(\"data\\\\bom.jpg\", cv2.IMREAD_COLOR)\n",
    "# 흑백으로 변경\n",
    "gray_image = cv2.cvtColor(image, cv2.COLOR_BGR2GRAY)\n",
    "\n",
    "cv2.imshow(\"original\", image)\n",
    "cv2.imshow(\"color2gray\", gray_image)\n",
    "\n",
    "cv2.waitKey(0)\n",
    "cv2.destroyAllWindows()"
   ]
  },
  {
   "cell_type": "markdown",
   "id": "6dcd1a74",
   "metadata": {},
   "source": [
    "### 블러처리"
   ]
  },
  {
   "cell_type": "code",
   "execution_count": 1,
   "id": "ba8a39e3",
   "metadata": {},
   "outputs": [],
   "source": [
    "import cv2\n",
    "\n",
    "image = cv2.imread(\"data\\\\bom.jpg\", cv2.IMREAD_COLOR)\n",
    "\n",
    "blur1 = cv2.GaussianBlur(image, (3, 3), 0)\n",
    "blur2 = cv2.GaussianBlur(image, (5, 5), 0)\n",
    "blur3 = cv2.GaussianBlur(image, (7, 7), 0)\n",
    "blur7 = cv2.GaussianBlur(image, (31, 31), 0)\n",
    "\n",
    "blur4 = cv2.GaussianBlur(image, (0, 0), 1)\n",
    "blur5 = cv2.GaussianBlur(image, (0, 0), 2)\n",
    "blur6 = cv2.GaussianBlur(image, (0, 0), 3)\n",
    "\n",
    "cv2.imshow(\"test1\", blur1)\n",
    "cv2.imshow(\"test2\", blur2)\n",
    "cv2.imshow(\"test3\", blur3)\n",
    "cv2.imshow(\"test4\", blur4)\n",
    "cv2.imshow(\"test5\", blur5)\n",
    "cv2.imshow(\"test6\", blur6)\n",
    "cv2.imshow(\"test7\", blur7)\n",
    "\n",
    "cv2.waitKey(0)\n",
    "cv2.destroyAllWindows()\n"
   ]
  }
 ],
 "metadata": {
  "kernelspec": {
   "display_name": "test_env",
   "language": "python",
   "name": "python3"
  },
  "language_info": {
   "codemirror_mode": {
    "name": "ipython",
    "version": 3
   },
   "file_extension": ".py",
   "mimetype": "text/x-python",
   "name": "python",
   "nbconvert_exporter": "python",
   "pygments_lexer": "ipython3",
   "version": "3.9.21"
  }
 },
 "nbformat": 4,
 "nbformat_minor": 5
}
